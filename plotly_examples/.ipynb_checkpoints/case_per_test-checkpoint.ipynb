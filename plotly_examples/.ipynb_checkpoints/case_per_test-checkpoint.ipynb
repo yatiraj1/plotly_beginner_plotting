{
 "cells": [
  {
   "cell_type": "code",
   "execution_count": null,
   "metadata": {},
   "outputs": [],
   "source": []
  },
  {
   "cell_type": "code",
   "execution_count": 297,
   "metadata": {},
   "outputs": [],
   "source": [
    "import numpy as np\n",
    "import pandas as pd"
   ]
  },
  {
   "cell_type": "code",
   "execution_count": 298,
   "metadata": {},
   "outputs": [],
   "source": [
    "from datetime import datetime"
   ]
  },
  {
   "cell_type": "code",
   "execution_count": 299,
   "metadata": {},
   "outputs": [],
   "source": [
    "from plotly import graph_objects as go"
   ]
  },
  {
   "cell_type": "markdown",
   "metadata": {},
   "source": [
    "### creating some cuts in data"
   ]
  },
  {
   "cell_type": "code",
   "execution_count": 300,
   "metadata": {},
   "outputs": [],
   "source": [
    "all_case_data = pd.read_csv(\"../covid-confirmed-cases-since-100th-case.csv\")"
   ]
  },
  {
   "cell_type": "code",
   "execution_count": 301,
   "metadata": {},
   "outputs": [],
   "source": [
    "all_case_data['date'] = all_case_data['Date'].astype(\"datetime64\")"
   ]
  },
  {
   "cell_type": "code",
   "execution_count": 302,
   "metadata": {},
   "outputs": [],
   "source": [
    "India_case_data = all_data.query(\"Entity=='India'\")"
   ]
  },
  {
   "cell_type": "code",
   "execution_count": 303,
   "metadata": {},
   "outputs": [
    {
     "data": {
      "text/html": [
       "<div>\n",
       "<style scoped>\n",
       "    .dataframe tbody tr th:only-of-type {\n",
       "        vertical-align: middle;\n",
       "    }\n",
       "\n",
       "    .dataframe tbody tr th {\n",
       "        vertical-align: top;\n",
       "    }\n",
       "\n",
       "    .dataframe thead th {\n",
       "        text-align: right;\n",
       "    }\n",
       "</style>\n",
       "<table border=\"1\" class=\"dataframe\">\n",
       "  <thead>\n",
       "    <tr style=\"text-align: right;\">\n",
       "      <th></th>\n",
       "      <th>Entity</th>\n",
       "      <th>Code</th>\n",
       "      <th>Date</th>\n",
       "      <th>Total confirmed cases (cases)</th>\n",
       "      <th>Days since the 100th total confirmed case (days)</th>\n",
       "      <th>date</th>\n",
       "      <th>entity</th>\n",
       "      <th>type</th>\n",
       "      <th>Cumulative total tests</th>\n",
       "    </tr>\n",
       "  </thead>\n",
       "  <tbody>\n",
       "    <tr>\n",
       "      <th>3361</th>\n",
       "      <td>India</td>\n",
       "      <td>IND</td>\n",
       "      <td>Dec 31, 2019</td>\n",
       "      <td>0.0</td>\n",
       "      <td>NaN</td>\n",
       "      <td>2019-12-31</td>\n",
       "      <td>NaN</td>\n",
       "      <td>NaN</td>\n",
       "      <td>NaN</td>\n",
       "    </tr>\n",
       "    <tr>\n",
       "      <th>3362</th>\n",
       "      <td>India</td>\n",
       "      <td>IND</td>\n",
       "      <td>Jan 1, 2020</td>\n",
       "      <td>0.0</td>\n",
       "      <td>NaN</td>\n",
       "      <td>2020-01-01</td>\n",
       "      <td>NaN</td>\n",
       "      <td>NaN</td>\n",
       "      <td>NaN</td>\n",
       "    </tr>\n",
       "    <tr>\n",
       "      <th>3363</th>\n",
       "      <td>India</td>\n",
       "      <td>IND</td>\n",
       "      <td>Jan 2, 2020</td>\n",
       "      <td>0.0</td>\n",
       "      <td>NaN</td>\n",
       "      <td>2020-01-02</td>\n",
       "      <td>NaN</td>\n",
       "      <td>NaN</td>\n",
       "      <td>NaN</td>\n",
       "    </tr>\n",
       "    <tr>\n",
       "      <th>3364</th>\n",
       "      <td>India</td>\n",
       "      <td>IND</td>\n",
       "      <td>Jan 3, 2020</td>\n",
       "      <td>0.0</td>\n",
       "      <td>NaN</td>\n",
       "      <td>2020-01-03</td>\n",
       "      <td>NaN</td>\n",
       "      <td>NaN</td>\n",
       "      <td>NaN</td>\n",
       "    </tr>\n",
       "    <tr>\n",
       "      <th>3365</th>\n",
       "      <td>India</td>\n",
       "      <td>IND</td>\n",
       "      <td>Jan 4, 2020</td>\n",
       "      <td>0.0</td>\n",
       "      <td>NaN</td>\n",
       "      <td>2020-01-04</td>\n",
       "      <td>NaN</td>\n",
       "      <td>NaN</td>\n",
       "      <td>NaN</td>\n",
       "    </tr>\n",
       "  </tbody>\n",
       "</table>\n",
       "</div>"
      ],
      "text/plain": [
       "     Entity Code          Date  Total confirmed cases (cases)  \\\n",
       "3361  India  IND  Dec 31, 2019                            0.0   \n",
       "3362  India  IND   Jan 1, 2020                            0.0   \n",
       "3363  India  IND   Jan 2, 2020                            0.0   \n",
       "3364  India  IND   Jan 3, 2020                            0.0   \n",
       "3365  India  IND   Jan 4, 2020                            0.0   \n",
       "\n",
       "      Days since the 100th total confirmed case (days)       date entity type  \\\n",
       "3361                                               NaN 2019-12-31    NaN  NaN   \n",
       "3362                                               NaN 2020-01-01    NaN  NaN   \n",
       "3363                                               NaN 2020-01-02    NaN  NaN   \n",
       "3364                                               NaN 2020-01-03    NaN  NaN   \n",
       "3365                                               NaN 2020-01-04    NaN  NaN   \n",
       "\n",
       "      Cumulative total tests  \n",
       "3361                     NaN  \n",
       "3362                     NaN  \n",
       "3363                     NaN  \n",
       "3364                     NaN  \n",
       "3365                     NaN  "
      ]
     },
     "execution_count": 303,
     "metadata": {},
     "output_type": "execute_result"
    }
   ],
   "source": [
    "India_case_data.head()\n"
   ]
  },
  {
   "cell_type": "code",
   "execution_count": 304,
   "metadata": {},
   "outputs": [],
   "source": [
    "cutoff_date = np.datetime64('2020-03-01')"
   ]
  },
  {
   "cell_type": "code",
   "execution_count": 305,
   "metadata": {},
   "outputs": [],
   "source": [
    "India_case_data_recent = India_case_data.loc[India_case_data['date']>=cutoff_date,:]"
   ]
  },
  {
   "cell_type": "code",
   "execution_count": 306,
   "metadata": {},
   "outputs": [],
   "source": [
    "all_test_data = pd.read_csv(\"../full-list-total-tests-for-covid-19.csv\")"
   ]
  },
  {
   "cell_type": "code",
   "execution_count": 307,
   "metadata": {},
   "outputs": [],
   "source": [
    "all_test_data['date'] = all_test_data['Date'].astype(\"datetime64\")"
   ]
  },
  {
   "cell_type": "code",
   "execution_count": 308,
   "metadata": {},
   "outputs": [
    {
     "data": {
      "text/html": [
       "<div>\n",
       "<style scoped>\n",
       "    .dataframe tbody tr th:only-of-type {\n",
       "        vertical-align: middle;\n",
       "    }\n",
       "\n",
       "    .dataframe tbody tr th {\n",
       "        vertical-align: top;\n",
       "    }\n",
       "\n",
       "    .dataframe thead th {\n",
       "        text-align: right;\n",
       "    }\n",
       "</style>\n",
       "<table border=\"1\" class=\"dataframe\">\n",
       "  <thead>\n",
       "    <tr style=\"text-align: right;\">\n",
       "      <th></th>\n",
       "      <th>Entity</th>\n",
       "      <th>Code</th>\n",
       "      <th>Date</th>\n",
       "      <th>Cumulative total tests</th>\n",
       "      <th>date</th>\n",
       "    </tr>\n",
       "  </thead>\n",
       "  <tbody>\n",
       "    <tr>\n",
       "      <th>0</th>\n",
       "      <td>Australia - units unclear</td>\n",
       "      <td>NaN</td>\n",
       "      <td>Mar 22, 2020</td>\n",
       "      <td>143056</td>\n",
       "      <td>2020-03-22</td>\n",
       "    </tr>\n",
       "    <tr>\n",
       "      <th>1</th>\n",
       "      <td>Australia - units unclear</td>\n",
       "      <td>NaN</td>\n",
       "      <td>Mar 29, 2020</td>\n",
       "      <td>211261</td>\n",
       "      <td>2020-03-29</td>\n",
       "    </tr>\n",
       "    <tr>\n",
       "      <th>2</th>\n",
       "      <td>Australia - units unclear</td>\n",
       "      <td>NaN</td>\n",
       "      <td>Apr 2, 2020</td>\n",
       "      <td>261000</td>\n",
       "      <td>2020-04-02</td>\n",
       "    </tr>\n",
       "    <tr>\n",
       "      <th>3</th>\n",
       "      <td>Austria - units unclear</td>\n",
       "      <td>NaN</td>\n",
       "      <td>Feb 25, 2020</td>\n",
       "      <td>218</td>\n",
       "      <td>2020-02-25</td>\n",
       "    </tr>\n",
       "    <tr>\n",
       "      <th>4</th>\n",
       "      <td>Austria - units unclear</td>\n",
       "      <td>NaN</td>\n",
       "      <td>Feb 26, 2020</td>\n",
       "      <td>321</td>\n",
       "      <td>2020-02-26</td>\n",
       "    </tr>\n",
       "  </tbody>\n",
       "</table>\n",
       "</div>"
      ],
      "text/plain": [
       "                      Entity  Code          Date  Cumulative total tests  \\\n",
       "0  Australia - units unclear   NaN  Mar 22, 2020                  143056   \n",
       "1  Australia - units unclear   NaN  Mar 29, 2020                  211261   \n",
       "2  Australia - units unclear   NaN   Apr 2, 2020                  261000   \n",
       "3    Austria - units unclear   NaN  Feb 25, 2020                     218   \n",
       "4    Austria - units unclear   NaN  Feb 26, 2020                     321   \n",
       "\n",
       "        date  \n",
       "0 2020-03-22  \n",
       "1 2020-03-29  \n",
       "2 2020-04-02  \n",
       "3 2020-02-25  \n",
       "4 2020-02-26  "
      ]
     },
     "execution_count": 308,
     "metadata": {},
     "output_type": "execute_result"
    }
   ],
   "source": [
    "all_test_data.head()"
   ]
  },
  {
   "cell_type": "code",
   "execution_count": 309,
   "metadata": {},
   "outputs": [],
   "source": [
    "India_test_data = all_test_data.query(\"Entity=='India - samples tested'\")"
   ]
  },
  {
   "cell_type": "code",
   "execution_count": 310,
   "metadata": {},
   "outputs": [],
   "source": [
    "all_test_data['type'] = all_test_data['Entity'].str.split('-', 1, expand=True)[1]\n",
    "all_test_data['entity'] = all_test_data['Entity'].str.split('-', 1, expand=True)[0].map(lambda x: x[:-1])"
   ]
  },
  {
   "cell_type": "code",
   "execution_count": 311,
   "metadata": {},
   "outputs": [],
   "source": [
    "India_data_recent = India_data.loc[India_data['date']>=cutoff_date,:]"
   ]
  },
  {
   "cell_type": "code",
   "execution_count": 312,
   "metadata": {},
   "outputs": [],
   "source": [
    "all_test_data_samples = all_test_data.query(\"type == ' samples tested'\")"
   ]
  },
  {
   "cell_type": "code",
   "execution_count": 313,
   "metadata": {},
   "outputs": [],
   "source": [
    "all_test_data_people = all_test_data.query(\"type == ' people tested'\")"
   ]
  },
  {
   "cell_type": "code",
   "execution_count": 314,
   "metadata": {},
   "outputs": [
    {
     "data": {
      "text/html": [
       "<div>\n",
       "<style scoped>\n",
       "    .dataframe tbody tr th:only-of-type {\n",
       "        vertical-align: middle;\n",
       "    }\n",
       "\n",
       "    .dataframe tbody tr th {\n",
       "        vertical-align: top;\n",
       "    }\n",
       "\n",
       "    .dataframe thead th {\n",
       "        text-align: right;\n",
       "    }\n",
       "</style>\n",
       "<table border=\"1\" class=\"dataframe\">\n",
       "  <thead>\n",
       "    <tr style=\"text-align: right;\">\n",
       "      <th></th>\n",
       "      <th>Entity</th>\n",
       "      <th>Code</th>\n",
       "      <th>Date</th>\n",
       "      <th>Cumulative total tests</th>\n",
       "      <th>date</th>\n",
       "      <th>type</th>\n",
       "      <th>entity</th>\n",
       "    </tr>\n",
       "  </thead>\n",
       "  <tbody>\n",
       "    <tr>\n",
       "      <th>125</th>\n",
       "      <td>India - people tested</td>\n",
       "      <td>NaN</td>\n",
       "      <td>Mar 6, 2020</td>\n",
       "      <td>3404</td>\n",
       "      <td>2020-03-06</td>\n",
       "      <td>people tested</td>\n",
       "      <td>India</td>\n",
       "    </tr>\n",
       "    <tr>\n",
       "      <th>126</th>\n",
       "      <td>India - people tested</td>\n",
       "      <td>NaN</td>\n",
       "      <td>Mar 13, 2020</td>\n",
       "      <td>5900</td>\n",
       "      <td>2020-03-13</td>\n",
       "      <td>people tested</td>\n",
       "      <td>India</td>\n",
       "    </tr>\n",
       "    <tr>\n",
       "      <th>127</th>\n",
       "      <td>India - people tested</td>\n",
       "      <td>NaN</td>\n",
       "      <td>Mar 18, 2020</td>\n",
       "      <td>12235</td>\n",
       "      <td>2020-03-18</td>\n",
       "      <td>people tested</td>\n",
       "      <td>India</td>\n",
       "    </tr>\n",
       "    <tr>\n",
       "      <th>128</th>\n",
       "      <td>India - people tested</td>\n",
       "      <td>NaN</td>\n",
       "      <td>Mar 19, 2020</td>\n",
       "      <td>12426</td>\n",
       "      <td>2020-03-19</td>\n",
       "      <td>people tested</td>\n",
       "      <td>India</td>\n",
       "    </tr>\n",
       "    <tr>\n",
       "      <th>129</th>\n",
       "      <td>India - people tested</td>\n",
       "      <td>NaN</td>\n",
       "      <td>Mar 20, 2020</td>\n",
       "      <td>13486</td>\n",
       "      <td>2020-03-20</td>\n",
       "      <td>people tested</td>\n",
       "      <td>India</td>\n",
       "    </tr>\n",
       "    <tr>\n",
       "      <th>130</th>\n",
       "      <td>India - people tested</td>\n",
       "      <td>NaN</td>\n",
       "      <td>Mar 21, 2020</td>\n",
       "      <td>14811</td>\n",
       "      <td>2020-03-21</td>\n",
       "      <td>people tested</td>\n",
       "      <td>India</td>\n",
       "    </tr>\n",
       "    <tr>\n",
       "      <th>131</th>\n",
       "      <td>India - people tested</td>\n",
       "      <td>NaN</td>\n",
       "      <td>Mar 22, 2020</td>\n",
       "      <td>16109</td>\n",
       "      <td>2020-03-22</td>\n",
       "      <td>people tested</td>\n",
       "      <td>India</td>\n",
       "    </tr>\n",
       "    <tr>\n",
       "      <th>132</th>\n",
       "      <td>India - people tested</td>\n",
       "      <td>NaN</td>\n",
       "      <td>Mar 23, 2020</td>\n",
       "      <td>19817</td>\n",
       "      <td>2020-03-23</td>\n",
       "      <td>people tested</td>\n",
       "      <td>India</td>\n",
       "    </tr>\n",
       "    <tr>\n",
       "      <th>133</th>\n",
       "      <td>India - people tested</td>\n",
       "      <td>NaN</td>\n",
       "      <td>Mar 24, 2020</td>\n",
       "      <td>19974</td>\n",
       "      <td>2020-03-24</td>\n",
       "      <td>people tested</td>\n",
       "      <td>India</td>\n",
       "    </tr>\n",
       "    <tr>\n",
       "      <th>134</th>\n",
       "      <td>India - people tested</td>\n",
       "      <td>NaN</td>\n",
       "      <td>Mar 25, 2020</td>\n",
       "      <td>24254</td>\n",
       "      <td>2020-03-25</td>\n",
       "      <td>people tested</td>\n",
       "      <td>India</td>\n",
       "    </tr>\n",
       "    <tr>\n",
       "      <th>135</th>\n",
       "      <td>India - people tested</td>\n",
       "      <td>NaN</td>\n",
       "      <td>Mar 27, 2020</td>\n",
       "      <td>26798</td>\n",
       "      <td>2020-03-27</td>\n",
       "      <td>people tested</td>\n",
       "      <td>India</td>\n",
       "    </tr>\n",
       "  </tbody>\n",
       "</table>\n",
       "</div>"
      ],
      "text/plain": [
       "                    Entity  Code          Date  Cumulative total tests  \\\n",
       "125  India - people tested   NaN   Mar 6, 2020                    3404   \n",
       "126  India - people tested   NaN  Mar 13, 2020                    5900   \n",
       "127  India - people tested   NaN  Mar 18, 2020                   12235   \n",
       "128  India - people tested   NaN  Mar 19, 2020                   12426   \n",
       "129  India - people tested   NaN  Mar 20, 2020                   13486   \n",
       "130  India - people tested   NaN  Mar 21, 2020                   14811   \n",
       "131  India - people tested   NaN  Mar 22, 2020                   16109   \n",
       "132  India - people tested   NaN  Mar 23, 2020                   19817   \n",
       "133  India - people tested   NaN  Mar 24, 2020                   19974   \n",
       "134  India - people tested   NaN  Mar 25, 2020                   24254   \n",
       "135  India - people tested   NaN  Mar 27, 2020                   26798   \n",
       "\n",
       "          date            type entity  \n",
       "125 2020-03-06   people tested  India  \n",
       "126 2020-03-13   people tested  India  \n",
       "127 2020-03-18   people tested  India  \n",
       "128 2020-03-19   people tested  India  \n",
       "129 2020-03-20   people tested  India  \n",
       "130 2020-03-21   people tested  India  \n",
       "131 2020-03-22   people tested  India  \n",
       "132 2020-03-23   people tested  India  \n",
       "133 2020-03-24   people tested  India  \n",
       "134 2020-03-25   people tested  India  \n",
       "135 2020-03-27   people tested  India  "
      ]
     },
     "execution_count": 314,
     "metadata": {},
     "output_type": "execute_result"
    }
   ],
   "source": [
    "all_test_data_people.query('entity==\"India\"')"
   ]
  },
  {
   "cell_type": "code",
   "execution_count": 315,
   "metadata": {},
   "outputs": [
    {
     "data": {
      "text/plain": [
       "Index(['Entity', 'Code', 'Date', 'Total confirmed cases (cases)',\n",
       "       'Days since the 100th total confirmed case (days)', 'date'],\n",
       "      dtype='object')"
      ]
     },
     "execution_count": 315,
     "metadata": {},
     "output_type": "execute_result"
    }
   ],
   "source": [
    "all_case_data.columns"
   ]
  },
  {
   "cell_type": "code",
   "execution_count": 316,
   "metadata": {},
   "outputs": [
    {
     "data": {
      "text/plain": [
       "Index(['Entity', 'Code', 'Date', 'Cumulative total tests', 'date', 'type',\n",
       "       'entity'],\n",
       "      dtype='object')"
      ]
     },
     "execution_count": 316,
     "metadata": {},
     "output_type": "execute_result"
    }
   ],
   "source": [
    "all_test_data.columns"
   ]
  },
  {
   "cell_type": "markdown",
   "metadata": {},
   "source": [
    "### merging data"
   ]
  },
  {
   "cell_type": "code",
   "execution_count": 317,
   "metadata": {},
   "outputs": [
    {
     "data": {
      "text/html": [
       "<div>\n",
       "<style scoped>\n",
       "    .dataframe tbody tr th:only-of-type {\n",
       "        vertical-align: middle;\n",
       "    }\n",
       "\n",
       "    .dataframe tbody tr th {\n",
       "        vertical-align: top;\n",
       "    }\n",
       "\n",
       "    .dataframe thead th {\n",
       "        text-align: right;\n",
       "    }\n",
       "</style>\n",
       "<table border=\"1\" class=\"dataframe\">\n",
       "  <thead>\n",
       "    <tr style=\"text-align: right;\">\n",
       "      <th></th>\n",
       "      <th>Entity</th>\n",
       "      <th>Code</th>\n",
       "      <th>Date</th>\n",
       "      <th>Total confirmed cases (cases)</th>\n",
       "      <th>Days since the 100th total confirmed case (days)</th>\n",
       "      <th>date</th>\n",
       "    </tr>\n",
       "  </thead>\n",
       "  <tbody>\n",
       "    <tr>\n",
       "      <th>0</th>\n",
       "      <td>Afghanistan</td>\n",
       "      <td>AFG</td>\n",
       "      <td>Dec 31, 2019</td>\n",
       "      <td>0.0</td>\n",
       "      <td>NaN</td>\n",
       "      <td>2019-12-31</td>\n",
       "    </tr>\n",
       "    <tr>\n",
       "      <th>1</th>\n",
       "      <td>Afghanistan</td>\n",
       "      <td>AFG</td>\n",
       "      <td>Jan 1, 2020</td>\n",
       "      <td>0.0</td>\n",
       "      <td>NaN</td>\n",
       "      <td>2020-01-01</td>\n",
       "    </tr>\n",
       "    <tr>\n",
       "      <th>2</th>\n",
       "      <td>Afghanistan</td>\n",
       "      <td>AFG</td>\n",
       "      <td>Jan 2, 2020</td>\n",
       "      <td>0.0</td>\n",
       "      <td>NaN</td>\n",
       "      <td>2020-01-02</td>\n",
       "    </tr>\n",
       "    <tr>\n",
       "      <th>3</th>\n",
       "      <td>Afghanistan</td>\n",
       "      <td>AFG</td>\n",
       "      <td>Jan 3, 2020</td>\n",
       "      <td>0.0</td>\n",
       "      <td>NaN</td>\n",
       "      <td>2020-01-03</td>\n",
       "    </tr>\n",
       "    <tr>\n",
       "      <th>4</th>\n",
       "      <td>Afghanistan</td>\n",
       "      <td>AFG</td>\n",
       "      <td>Jan 4, 2020</td>\n",
       "      <td>0.0</td>\n",
       "      <td>NaN</td>\n",
       "      <td>2020-01-04</td>\n",
       "    </tr>\n",
       "  </tbody>\n",
       "</table>\n",
       "</div>"
      ],
      "text/plain": [
       "        Entity Code          Date  Total confirmed cases (cases)  \\\n",
       "0  Afghanistan  AFG  Dec 31, 2019                            0.0   \n",
       "1  Afghanistan  AFG   Jan 1, 2020                            0.0   \n",
       "2  Afghanistan  AFG   Jan 2, 2020                            0.0   \n",
       "3  Afghanistan  AFG   Jan 3, 2020                            0.0   \n",
       "4  Afghanistan  AFG   Jan 4, 2020                            0.0   \n",
       "\n",
       "   Days since the 100th total confirmed case (days)       date  \n",
       "0                                               NaN 2019-12-31  \n",
       "1                                               NaN 2020-01-01  \n",
       "2                                               NaN 2020-01-02  \n",
       "3                                               NaN 2020-01-03  \n",
       "4                                               NaN 2020-01-04  "
      ]
     },
     "execution_count": 317,
     "metadata": {},
     "output_type": "execute_result"
    }
   ],
   "source": [
    "all_case_data.head()"
   ]
  },
  {
   "cell_type": "code",
   "execution_count": 318,
   "metadata": {},
   "outputs": [
    {
     "data": {
      "text/plain": [
       "array([' units unclear', ' tests performed', ' people tested',\n",
       "       ' samples tested', ' cases tested',\n",
       "       ' inconsistent units (COVID Tracking Project)',\n",
       "       ' specimens tested (CDC)'], dtype=object)"
      ]
     },
     "execution_count": 318,
     "metadata": {},
     "output_type": "execute_result"
    }
   ],
   "source": [
    "all_test_data.type.unique()"
   ]
  },
  {
   "cell_type": "code",
   "execution_count": 319,
   "metadata": {},
   "outputs": [],
   "source": [
    "all_data = all_case_data.merge(all_test_data_people[['entity','type','Date','Cumulative total tests']], how = 'left',left_on = ['Entity','Date'], right_on = ['entity','Date'])"
   ]
  },
  {
   "cell_type": "code",
   "execution_count": 320,
   "metadata": {},
   "outputs": [],
   "source": [
    "all_data['case_per_test'] = all_data['Total confirmed cases (cases)'] / all_data['Cumulative total tests']"
   ]
  },
  {
   "cell_type": "code",
   "execution_count": 321,
   "metadata": {},
   "outputs": [],
   "source": [
    "India_data = all_data.query(\"Entity == 'India'\")"
   ]
  },
  {
   "cell_type": "code",
   "execution_count": 322,
   "metadata": {},
   "outputs": [],
   "source": [
    "UK_data = all_data.query(\"Entity == 'United Kingdom'\")\n",
    "#all_data['Entity'].unique()"
   ]
  },
  {
   "cell_type": "code",
   "execution_count": 323,
   "metadata": {},
   "outputs": [],
   "source": [
    "UK_data_recent = UK_data.loc[UK_data['date']>=cutoff_date]"
   ]
  },
  {
   "cell_type": "code",
   "execution_count": 324,
   "metadata": {},
   "outputs": [],
   "source": [
    "India_data_recent = India_data.loc[India_data['date']>=cutoff_date]"
   ]
  },
  {
   "cell_type": "code",
   "execution_count": 325,
   "metadata": {},
   "outputs": [
    {
     "data": {
      "text/plain": [
       "7948        31.0\n",
       "7949        52.0\n",
       "7950        73.0\n",
       "7951        97.0\n",
       "7952       130.0\n",
       "          ...   \n",
       "8012    127737.0\n",
       "8013    134946.0\n",
       "8014    143186.0\n",
       "8015    152979.0\n",
       "8016    163194.0\n",
       "Name: Cumulative total tests, Length: 69, dtype: float64"
      ]
     },
     "execution_count": 325,
     "metadata": {},
     "output_type": "execute_result"
    }
   ],
   "source": [
    "UK_data['Cumulative total tests'].dropna()"
   ]
  },
  {
   "cell_type": "raw",
   "metadata": {},
   "source": [
    "all_data.to_csv('temp.csv')"
   ]
  },
  {
   "cell_type": "markdown",
   "metadata": {},
   "source": [
    "### PLotting"
   ]
  },
  {
   "cell_type": "code",
   "execution_count": 326,
   "metadata": {},
   "outputs": [
    {
     "data": {
      "text/html": [
       "<div>\n",
       "<style scoped>\n",
       "    .dataframe tbody tr th:only-of-type {\n",
       "        vertical-align: middle;\n",
       "    }\n",
       "\n",
       "    .dataframe tbody tr th {\n",
       "        vertical-align: top;\n",
       "    }\n",
       "\n",
       "    .dataframe thead th {\n",
       "        text-align: right;\n",
       "    }\n",
       "</style>\n",
       "<table border=\"1\" class=\"dataframe\">\n",
       "  <thead>\n",
       "    <tr style=\"text-align: right;\">\n",
       "      <th></th>\n",
       "      <th>Entity</th>\n",
       "      <th>Code</th>\n",
       "      <th>Date</th>\n",
       "      <th>Total confirmed cases (cases)</th>\n",
       "      <th>Days since the 100th total confirmed case (days)</th>\n",
       "      <th>date</th>\n",
       "      <th>entity</th>\n",
       "      <th>type</th>\n",
       "      <th>Cumulative total tests</th>\n",
       "      <th>case_per_test</th>\n",
       "    </tr>\n",
       "  </thead>\n",
       "  <tbody>\n",
       "    <tr>\n",
       "      <th>7984</th>\n",
       "      <td>United Kingdom</td>\n",
       "      <td>GBR</td>\n",
       "      <td>Mar 1, 2020</td>\n",
       "      <td>23.0</td>\n",
       "      <td>NaN</td>\n",
       "      <td>2020-03-01</td>\n",
       "      <td>United Kingdom</td>\n",
       "      <td>people tested</td>\n",
       "      <td>11750.0</td>\n",
       "      <td>0.001957</td>\n",
       "    </tr>\n",
       "    <tr>\n",
       "      <th>7985</th>\n",
       "      <td>United Kingdom</td>\n",
       "      <td>GBR</td>\n",
       "      <td>Mar 2, 2020</td>\n",
       "      <td>36.0</td>\n",
       "      <td>NaN</td>\n",
       "      <td>2020-03-02</td>\n",
       "      <td>United Kingdom</td>\n",
       "      <td>people tested</td>\n",
       "      <td>13525.0</td>\n",
       "      <td>0.002662</td>\n",
       "    </tr>\n",
       "    <tr>\n",
       "      <th>7986</th>\n",
       "      <td>United Kingdom</td>\n",
       "      <td>GBR</td>\n",
       "      <td>Mar 3, 2020</td>\n",
       "      <td>40.0</td>\n",
       "      <td>NaN</td>\n",
       "      <td>2020-03-03</td>\n",
       "      <td>United Kingdom</td>\n",
       "      <td>people tested</td>\n",
       "      <td>13911.0</td>\n",
       "      <td>0.002875</td>\n",
       "    </tr>\n",
       "    <tr>\n",
       "      <th>7987</th>\n",
       "      <td>United Kingdom</td>\n",
       "      <td>GBR</td>\n",
       "      <td>Mar 4, 2020</td>\n",
       "      <td>51.0</td>\n",
       "      <td>NaN</td>\n",
       "      <td>2020-03-04</td>\n",
       "      <td>United Kingdom</td>\n",
       "      <td>people tested</td>\n",
       "      <td>16659.0</td>\n",
       "      <td>0.003061</td>\n",
       "    </tr>\n",
       "    <tr>\n",
       "      <th>7988</th>\n",
       "      <td>United Kingdom</td>\n",
       "      <td>GBR</td>\n",
       "      <td>Mar 5, 2020</td>\n",
       "      <td>85.0</td>\n",
       "      <td>NaN</td>\n",
       "      <td>2020-03-05</td>\n",
       "      <td>United Kingdom</td>\n",
       "      <td>people tested</td>\n",
       "      <td>18083.0</td>\n",
       "      <td>0.004701</td>\n",
       "    </tr>\n",
       "  </tbody>\n",
       "</table>\n",
       "</div>"
      ],
      "text/plain": [
       "              Entity Code         Date  Total confirmed cases (cases)  \\\n",
       "7984  United Kingdom  GBR  Mar 1, 2020                           23.0   \n",
       "7985  United Kingdom  GBR  Mar 2, 2020                           36.0   \n",
       "7986  United Kingdom  GBR  Mar 3, 2020                           40.0   \n",
       "7987  United Kingdom  GBR  Mar 4, 2020                           51.0   \n",
       "7988  United Kingdom  GBR  Mar 5, 2020                           85.0   \n",
       "\n",
       "      Days since the 100th total confirmed case (days)       date  \\\n",
       "7984                                               NaN 2020-03-01   \n",
       "7985                                               NaN 2020-03-02   \n",
       "7986                                               NaN 2020-03-03   \n",
       "7987                                               NaN 2020-03-04   \n",
       "7988                                               NaN 2020-03-05   \n",
       "\n",
       "              entity            type  Cumulative total tests  case_per_test  \n",
       "7984  United Kingdom   people tested                 11750.0       0.001957  \n",
       "7985  United Kingdom   people tested                 13525.0       0.002662  \n",
       "7986  United Kingdom   people tested                 13911.0       0.002875  \n",
       "7987  United Kingdom   people tested                 16659.0       0.003061  \n",
       "7988  United Kingdom   people tested                 18083.0       0.004701  "
      ]
     },
     "execution_count": 326,
     "metadata": {},
     "output_type": "execute_result"
    }
   ],
   "source": [
    "UK_data_recent.head()"
   ]
  },
  {
   "cell_type": "code",
   "execution_count": 327,
   "metadata": {},
   "outputs": [],
   "source": [
    "from plotly import graph_objects as go"
   ]
  },
  {
   "cell_type": "code",
   "execution_count": 330,
   "metadata": {},
   "outputs": [],
   "source": [
    "UK_Bar = go.Bar(x = UK_data_recent['date'],\n",
    "               y = UK_data_recent['case_per_test'],\n",
    "               name = 'UK')"
   ]
  },
  {
   "cell_type": "code",
   "execution_count": 331,
   "metadata": {},
   "outputs": [],
   "source": [
    "India_Bar = go.Bar(x = India_data_recent['date'],\n",
    "               y = India_data_recent['case_per_test'],\n",
    "                  name = 'India')"
   ]
  },
  {
   "cell_type": "code",
   "execution_count": 333,
   "metadata": {},
   "outputs": [],
   "source": [
    "fig = go.Figure(data = [UK_Bar,\n",
    "                       India_Bar],\n",
    "               layout_title_text = 'Case_per_test recent')"
   ]
  },
  {
   "cell_type": "code",
   "execution_count": null,
   "metadata": {},
   "outputs": [],
   "source": [
    "fig.show()"
   ]
  }
 ],
 "metadata": {
  "kernelspec": {
   "display_name": "Python 3",
   "language": "python",
   "name": "python3"
  },
  "language_info": {
   "codemirror_mode": {
    "name": "ipython",
    "version": 3
   },
   "file_extension": ".py",
   "mimetype": "text/x-python",
   "name": "python",
   "nbconvert_exporter": "python",
   "pygments_lexer": "ipython3",
   "version": "3.7.6"
  }
 },
 "nbformat": 4,
 "nbformat_minor": 4
}
